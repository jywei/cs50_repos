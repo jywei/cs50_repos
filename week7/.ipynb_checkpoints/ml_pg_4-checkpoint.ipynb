{
 "cells": [
  {
   "cell_type": "code",
   "execution_count": 2,
   "metadata": {},
   "outputs": [],
   "source": [
    "# Import the data set into a Panda data frame\n",
    "import pandas as pd\n",
    "from io import StringIO\n",
    "import requests\n",
    "\n",
    "act = requests.get('https://docs.google.com/spreadsheets/d/1udJ4nd9EKlX_awB90JCbKaStuYh6aVjh1X6j8iBUXIU/export?format=csv')\n",
    "dataact = act.content.decode('utf-8') # To convert to string for Stringio\n",
    "frame = pd.read_csv(StringIO(dataact))"
   ]
  },
  {
   "cell_type": "code",
   "execution_count": 3,
   "metadata": {},
   "outputs": [
    {
     "name": "stdout",
     "output_type": "stream",
     "text": [
      "                     Title                                           Synopsis\n",
      "0       Mad Max: Fury Road  Max Rockatansky (Tom Hardy) explains in a voic...\n",
      "1               The Matrix  The screen is filled with green, cascading cod...\n",
      "2        The King's Speech  The film opens with Prince Albert, Duke of Yor...\n",
      "3   No Country for Old Men  The film opens with a shot of desolate, wide-o...\n",
      "4         A Beautiful Mind  John Nash (Russell Crowe) arrives at Princeton...\n",
      "5                Inception  A young man, exhausted and delirious, washes u...\n",
      "6                   Frozen  The Walt Disney Pictures logo and the movie ti...\n",
      "7            The Lion King  The Lion King takes place in the Pride Lands o...\n",
      "8                  Aladdin  The film starts with a street peddler, guiding...\n",
      "9               Cinderella  The film opens in a tiny kingdom, and shows us...\n",
      "10            Finding Nemo  Two clownfish, Marlin (Albert Brooks) and his ...\n",
      "11               Toy Story  A boy called Andy Davis (voice: John Morris) u...\n",
      "12              Robin Hood  Told with animals for it's cast, the story tel...\n"
     ]
    }
   ],
   "source": [
    "print(frame)"
   ]
  },
  {
   "cell_type": "code",
   "execution_count": 5,
   "metadata": {},
   "outputs": [],
   "source": [
    "# Loop over each synopsis and append its content to a list of string named 'corpus' \n",
    "corpus = []\n",
    "for i in range(0, frame[\"Synopsis\"].size):\n",
    "    corpus.append(frame[\"Synopsis\"][i])"
   ]
  },
  {
   "cell_type": "code",
   "execution_count": 6,
   "metadata": {
    "collapsed": true
   },
   "outputs": [],
   "source": [
    "# Create tf–idf matrix\n",
    "from sklearn.feature_extraction.text import TfidfVectorizer\n",
    "vectorizer = TfidfVectorizer(stop_words = 'english', min_df = 0.2)\n",
    "# min_df = 0.2 means that the term must be in at least 20% of the documents\n",
    "X = vectorizer.fit_transform(corpus)"
   ]
  },
  {
   "cell_type": "code",
   "execution_count": 9,
   "metadata": {},
   "outputs": [],
   "source": [
    "k = 2 # Define the number of clusters in which we want to partion our data\n",
    "# Define the proper notion of distance to deal with documents\n",
    "from sklearn.metrics.pairwise import cosine_similarity\n",
    "from sklearn.cluster import KMeans\n",
    "dist = 1 - cosine_similarity(X)\n",
    "# Run the algorithm kmeans\n",
    "model = KMeans(n_clusters = k)\n",
    "model.fit(X);"
   ]
  },
  {
   "cell_type": "code",
   "execution_count": 10,
   "metadata": {},
   "outputs": [
    {
     "name": "stdout",
     "output_type": "stream",
     "text": [
      "Top terms per cluster:\n",
      "\n",
      "Cluster 0 movies: Mad Max: Fury Road, The Matrix, No Country for Old Men, A Beautiful Mind, Inception, Frozen, The Lion King, Finding Nemo, Toy Story,\n",
      "Cluster 0 words: says, room, tank, joe,\n",
      "\n",
      "Cluster 1 movies: The King's Speech, Aladdin, Cinderella, Robin Hood,\n",
      "Cluster 1 words: king, prince, john, palace,\n",
      "\n"
     ]
    }
   ],
   "source": [
    "no_words = 4 # Number of words to print per cluster\n",
    "order_centroids = model.cluster_centers_.argsort()[:, ::-1] # Sort cluster centers by proximity to centroid\n",
    "terms = vectorizer.get_feature_names()\n",
    "labels = model.labels_ # Get labels assigned to each data\n",
    "\n",
    "print(\"Top terms per cluster:\\n\")\n",
    "for i in range(k):\n",
    "    \n",
    "    print(\"Cluster %d movies:\" % i, end='')\n",
    "    for title in frame[\"Title\"][labels == i]:\n",
    "        print(' %s,' % title, end='')\n",
    "    print() #add a whitespace\n",
    "\n",
    "    print(\"Cluster %d words:\" % i, end='') \n",
    "    for ind in order_centroids[i, :no_words]:\n",
    "        print (' %s' % terms[ind], end=','),\n",
    "    print()\n",
    "    print()"
   ]
  },
  {
   "cell_type": "code",
   "execution_count": null,
   "metadata": {
    "collapsed": true
   },
   "outputs": [],
   "source": []
  }
 ],
 "metadata": {
  "kernelspec": {
   "display_name": "Python 3",
   "language": "python",
   "name": "python3"
  },
  "language_info": {
   "codemirror_mode": {
    "name": "ipython",
    "version": 3
   },
   "file_extension": ".py",
   "mimetype": "text/x-python",
   "name": "python",
   "nbconvert_exporter": "python",
   "pygments_lexer": "ipython3",
   "version": "3.6.0"
  }
 },
 "nbformat": 4,
 "nbformat_minor": 2
}
